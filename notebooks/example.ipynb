{
 "cells": [
  {
   "cell_type": "code",
   "execution_count": 1,
   "id": "8aef5c2a-5ac6-4566-8881-1e82a4b8111c",
   "metadata": {
    "tags": []
   },
   "outputs": [],
   "source": [
    "%load_ext autoreload\n",
    "%autoreload 2"
   ]
  },
  {
   "cell_type": "code",
   "execution_count": 175,
   "id": "f7f13975-2160-44e8-9783-6abe22273f22",
   "metadata": {
    "tags": []
   },
   "outputs": [],
   "source": [
    "import sys\n",
    "import numpy as np\n",
    "from stabilizer_states import StabilizerStates"
   ]
  },
  {
   "cell_type": "code",
   "execution_count": 645,
   "id": "5d59e31f-2cab-41d5-bdf6-f95aedb0a14d",
   "metadata": {
    "tags": []
   },
   "outputs": [],
   "source": [
    "np.set_printoptions(precision=3, linewidth=sys.maxsize, edgeitems=4, threshold=1024, suppress=True) "
   ]
  },
  {
   "cell_type": "code",
   "execution_count": 712,
   "id": "ee630157-ecb8-4415-9e34-4867b2bc634c",
   "metadata": {
    "tags": []
   },
   "outputs": [],
   "source": [
    "def normalize(v):\n",
    "    norm = np.linalg.norm(v)\n",
    "    if norm == 0: \n",
    "        return v\n",
    "    return v / norm"
   ]
  },
  {
   "cell_type": "code",
   "execution_count": 770,
   "id": "c4028cf7-8969-45fe-9e22-a7009e5c6683",
   "metadata": {
    "tags": []
   },
   "outputs": [
    {
     "name": "stdout",
     "output_type": "stream",
     "text": [
      "Validation for 1-qubit stabilizer dataset:\n",
      "  Full count of stabilizer states (6): ✅\n",
      "  All states unique: ✅\n",
      "  Non-zero amplitude count for each state is a power of two: ✅\n",
      "  Non-zero amplitude count for each state is either ±1/√|s| or ±i/√|s| (|s| is support): ✅\n",
      "  Imaginary amplitude count for each state is zero or half the support: ✅\n",
      "  Negative amplitude count for each state is zero or a power of two: ✅\n"
     ]
    },
    {
     "data": {
      "text/plain": [
       "True"
      ]
     },
     "execution_count": 770,
     "metadata": {},
     "output_type": "execute_result"
    }
   ],
   "source": [
    "S1 = StabilizerStates(1)\n",
    "# S1 = StabilizerStates(1, \"real\")\n",
    "# S1 = StabilizerStates(1, \"ternary\")\n",
    "S1.validate()"
   ]
  },
  {
   "cell_type": "code",
   "execution_count": 648,
   "id": "4ad40355-a340-449a-a157-604a723dc907",
   "metadata": {},
   "outputs": [
    {
     "data": {
      "text/plain": [
       "6"
      ]
     },
     "execution_count": 648,
     "metadata": {},
     "output_type": "execute_result"
    }
   ],
   "source": [
    "len(S1)"
   ]
  },
  {
   "cell_type": "code",
   "execution_count": 649,
   "id": "ffa208a1-1a8d-4be9-ac6d-fe04cc279bcf",
   "metadata": {
    "tags": []
   },
   "outputs": [
    {
     "name": "stdout",
     "output_type": "stream",
     "text": [
      "[[ 1.   +0.j     0.   +0.j   ]\n",
      " [ 0.   +0.j     1.   +0.j   ]\n",
      " [ 0.707+0.j     0.707+0.j   ]\n",
      " [ 0.707+0.j    -0.707+0.j   ]\n",
      " [ 0.707+0.j     0.   +0.707j]\n",
      " [ 0.707+0.j     0.   -0.707j]]\n"
     ]
    }
   ],
   "source": [
    "print(S1)"
   ]
  },
  {
   "cell_type": "code",
   "execution_count": 771,
   "id": "87f76e68-4356-48ff-9ea4-baf49b5c5754",
   "metadata": {
    "tags": []
   },
   "outputs": [
    {
     "name": "stdout",
     "output_type": "stream",
     "text": [
      "Validation for 2-qubit stabilizer dataset:\n",
      "  Full count of stabilizer states (60): ✅\n",
      "  All states unique: ✅\n",
      "  Non-zero amplitude count for each state is a power of two: ✅\n",
      "  Non-zero amplitude count for each state is either ±1/√|s| or ±i/√|s| (|s| is support): ✅\n",
      "  Imaginary amplitude count for each state is zero or half the support: ✅\n",
      "  Negative amplitude count for each state is zero or a power of two: ✅\n"
     ]
    },
    {
     "data": {
      "text/plain": [
       "True"
      ]
     },
     "execution_count": 771,
     "metadata": {},
     "output_type": "execute_result"
    }
   ],
   "source": [
    "S2 = StabilizerStates(2)\n",
    "# S2 = StabilizerStates(2, \"real\")\n",
    "# S2 = StabilizerStates(2, \"ternary\")\n",
    "S2.validate()"
   ]
  },
  {
   "cell_type": "code",
   "execution_count": 737,
   "id": "76b66b17-7d9d-4f85-a191-db1d971131f6",
   "metadata": {
    "tags": []
   },
   "outputs": [
    {
     "name": "stdout",
     "output_type": "stream",
     "text": [
      "92\n",
      "120\n"
     ]
    }
   ],
   "source": [
    "S = S2\n",
    "states = S._states\n",
    "support = np.count_nonzero(states, axis=1)    \n",
    "amplitudes = 1 / np.sqrt(support[:, None])    \n",
    "nonzero_amps_match = np.isclose(states, amplitudes)\n",
    "print(np.count_nonzero(nonzero_amps_match))\n",
    "# print(nonzero_amps_match[nonzero_amps_match].shape)\n",
    "nonzero_amps_match = np.where(nonzero_amps_match, nonzero_amps_match, np.isclose(states, -amplitudes))\n",
    "print(np.count_nonzero(nonzero_amps_match))\n",
    "# np.where(np.logical_or(\n",
    "#                 np.logical_or(\n",
    "#                     np.logical_or(\n",
    "#                         np.logical_or(np.isclose(S2._states, amplitudes), np.isclose(S2._states, -amplitudes)),\n",
    "#                         np.isclose(S2._states, 1j * amplitudes),\n",
    "#                     ),\n",
    "#                     np.isclose(S2._states, -1j * amplitudes),\n",
    "#                 ),\n",
    "#                 np.isclose(S2._states, 0),\n",
    "#             ) == False)\n",
    "# S2[37]\n",
    "# S2[39]"
   ]
  },
  {
   "cell_type": "code",
   "execution_count": 775,
   "id": "e43350af-86f1-4b2e-964e-f192fd6eb1b5",
   "metadata": {
    "tags": []
   },
   "outputs": [],
   "source": [
    "S = S4\n",
    "\n",
    "# negative_signs = np.count_nonzero(np.sign(S._states) == -1, axis=1)\n",
    "# negative_amps_power_of_two = np.all(\n",
    "#     np.mod(np.log2(negative_signs, where=negative_signs > 0), 1) == 0\n",
    "# )\n",
    "# print(np.where(np.mod(np.log2(negative_signs, where=negative_signs > 0), 1) != 0))\n",
    "\n",
    "\n",
    "# negative_signs = np.count_nonzero(np.sign(S._states) == -1, axis=1)\n",
    "# positive_signs = np.count_nonzero(np.sign(S._states) == 1, axis=1)\n",
    "# np.where(negative_signs[:,None] > positive_signs[:,None])\n",
    "# normalize(S[19]/np.max(S[19]))\n",
    "# np.where(negative_signs[:,None] > positive_signs[:,None], -1 * S._states, S._states)\n",
    "# np.where(np.mod(np.log2(negative_signs, where=negative_signs > 0), 1) != 0)\n",
    "\n",
    "# np.all(np.all(np.isclose(S._states, np.apply_along_axis(normalize, 1, S._states/np.max(S._states, axis=1)[:,None])), axis=1))\n",
    "# np.where(S._states != np.apply_along_axis(normalize, 1, S._states/np.min(S._states, axis=1)[:,None]))\n",
    "# print(S[37])\n",
    "# print(np.apply_along_axis(normalize, 1, S._states/np.max(S._states, axis=1)[:,None])[37])\n",
    "# np.save(\"../stabilizer_states/datasets/S4.npy\", np.apply_along_axis(normalize, 1, S._states/np.max(S._states, axis=1)[:,None]))\n",
    "# np.save(\"../stabilizer_states/datasets/S4.npy\", np.where(negative_signs[:,None] > positive_signs[:,None], -1 * S._states, S._states))"
   ]
  },
  {
   "cell_type": "code",
   "execution_count": 452,
   "id": "fa612433-1916-4051-a36c-58c63c8d0c7b",
   "metadata": {
    "tags": []
   },
   "outputs": [
    {
     "name": "stdout",
     "output_type": "stream",
     "text": [
      "(60, 4)\n"
     ]
    }
   ],
   "source": [
    "print(S2.shape)"
   ]
  },
  {
   "cell_type": "code",
   "execution_count": 602,
   "id": "3407e268-ff8e-4588-ae77-be78d364ee8b",
   "metadata": {
    "tags": []
   },
   "outputs": [
    {
     "name": "stdout",
     "output_type": "stream",
     "text": [
      "[[ 0.5  +0.j     0.5  +0.j     0.5  +0.j     0.5  +0.j   ]\n",
      " [ 0.5  +0.j    -0.5  +0.j     0.5  +0.j    -0.5  +0.j   ]\n",
      " [ 0.5  +0.j     0.5  +0.j    -0.5  +0.j    -0.5  +0.j   ]\n",
      " [ 0.5  +0.j    -0.5  +0.j    -0.5  +0.j     0.5  +0.j   ]\n",
      " [ 0.5  +0.j     0.   +0.5j    0.5  +0.j     0.   +0.5j  ]\n",
      " [ 0.5  +0.j     0.   -0.5j    0.5  +0.j     0.   -0.5j  ]\n",
      " [ 0.5  +0.j     0.   +0.5j   -0.5  +0.j     0.   -0.5j  ]\n",
      " [ 0.5  +0.j     0.   -0.5j   -0.5  +0.j     0.   +0.5j  ]\n",
      " [ 0.5  +0.j     0.5  +0.j     0.5  +0.j    -0.5  +0.j   ]\n",
      " [ 0.5  +0.j    -0.5  +0.j     0.5  +0.j     0.5  +0.j   ]\n",
      " [ 0.5  +0.j     0.5  +0.j    -0.5  +0.j     0.5  +0.j   ]\n",
      " [-0.5  +0.j     0.5  -0.j     0.5  -0.j     0.5  -0.j   ]\n",
      " [ 0.5  +0.j     0.   +0.5j    0.5  +0.j     0.   -0.5j  ]\n",
      " [ 0.5  +0.j     0.   -0.5j    0.5  +0.j     0.   +0.5j  ]\n",
      " [ 0.5  +0.j     0.   +0.5j   -0.5  +0.j     0.   +0.5j  ]\n",
      " [-0.5  +0.j     0.   +0.5j    0.5  -0.j     0.   +0.5j  ]\n",
      " [ 0.5  +0.j     0.5  +0.j     0.   +0.5j    0.   +0.5j  ]\n",
      " [ 0.5  +0.j    -0.5  +0.j     0.   +0.5j    0.   -0.5j  ]\n",
      " [ 0.5  +0.j     0.5  +0.j     0.   -0.5j    0.   -0.5j  ]\n",
      " [ 0.5  +0.j    -0.5  +0.j     0.   -0.5j    0.   +0.5j  ]\n",
      " [ 0.5  +0.j     0.   +0.5j    0.   +0.5j   -0.5  +0.j   ]\n",
      " [ 0.5  +0.j     0.   -0.5j    0.   +0.5j    0.5  +0.j   ]\n",
      " [ 0.5  +0.j     0.   +0.5j    0.   -0.5j    0.5  +0.j   ]\n",
      " [-0.5  +0.j     0.   +0.5j    0.   +0.5j    0.5  -0.j   ]\n",
      " [ 0.5  +0.j     0.5  +0.j     0.   +0.5j    0.   -0.5j  ]\n",
      " [ 0.5  +0.j    -0.5  +0.j     0.   +0.5j    0.   +0.5j  ]\n",
      " [ 0.5  +0.j     0.5  +0.j     0.   -0.5j    0.   +0.5j  ]\n",
      " [-0.5  +0.j     0.5  -0.j     0.   +0.5j    0.   +0.5j  ]\n",
      " [ 0.5  +0.j     0.   +0.5j    0.   +0.5j    0.5  +0.j   ]\n",
      " [ 0.5  +0.j     0.   -0.5j    0.   +0.5j   -0.5  +0.j   ]\n",
      " [ 0.5  +0.j     0.   +0.5j    0.   -0.5j   -0.5  +0.j   ]\n",
      " [ 0.5  +0.j     0.   -0.5j    0.   -0.5j    0.5  +0.j   ]\n",
      " [ 0.707+0.j     0.   +0.j     0.   +0.j     0.707+0.j   ]\n",
      " [ 0.   +0.j     0.707+0.j     0.707+0.j     0.   +0.j   ]\n",
      " [ 0.707+0.j     0.   +0.j     0.   +0.j    -0.707+0.j   ]\n",
      " [ 0.   +0.j    -0.707+0.j     0.707+0.j     0.   +0.j   ]\n",
      " [ 0.707+0.j     0.   +0.j     0.   +0.j     0.   +0.707j]\n",
      " [ 0.   +0.j     0.707+0.j     0.   -0.707j  0.   +0.j   ]\n",
      " [ 0.707+0.j     0.   +0.j     0.   +0.j     0.   -0.707j]\n",
      " [ 0.   +0.j     0.   -0.707j  0.707+0.j     0.   +0.j   ]\n",
      " [ 0.707+0.j     0.   +0.j     0.707+0.j     0.   +0.j   ]\n",
      " [ 0.   +0.j     0.707+0.j     0.   +0.j     0.707+0.j   ]\n",
      " [ 0.707+0.j     0.   +0.j    -0.707+0.j     0.   +0.j   ]\n",
      " [ 0.   +0.j    -0.707+0.j     0.   +0.j     0.707+0.j   ]\n",
      " [ 0.707+0.j     0.   +0.j     0.   +0.707j  0.   +0.j   ]\n",
      " [ 0.   +0.j     0.   -0.707j  0.   +0.j     0.707+0.j   ]\n",
      " [ 0.707+0.j     0.   +0.j     0.   -0.707j  0.   +0.j   ]\n",
      " [ 0.   +0.j     0.   +0.707j  0.   +0.j     0.707+0.j   ]\n",
      " [ 0.707+0.j     0.707+0.j     0.   +0.j     0.   +0.j   ]\n",
      " [ 0.   +0.j     0.   +0.j     0.707+0.j     0.707+0.j   ]\n",
      " [ 0.707+0.j    -0.707+0.j     0.   +0.j     0.   +0.j   ]\n",
      " [ 0.   +0.j     0.   +0.j    -0.707+0.j     0.707+0.j   ]\n",
      " [ 0.707+0.j     0.   +0.707j  0.   +0.j     0.   +0.j   ]\n",
      " [ 0.   +0.j     0.   +0.j     0.   -0.707j  0.707+0.j   ]\n",
      " [ 0.707+0.j     0.   -0.707j  0.   +0.j     0.   +0.j   ]\n",
      " [ 0.   +0.j     0.   +0.j     0.   +0.707j  0.707+0.j   ]\n",
      " [ 1.   +0.j     0.   +0.j     0.   +0.j     0.   +0.j   ]\n",
      " [ 0.   +0.j     1.   +0.j     0.   +0.j     0.   +0.j   ]\n",
      " [ 0.   +0.j     0.   +0.j     1.   +0.j     0.   +0.j   ]\n",
      " [ 0.   +0.j     0.   +0.j     0.   +0.j     1.   +0.j   ]]\n"
     ]
    }
   ],
   "source": [
    "print(S2)"
   ]
  },
  {
   "cell_type": "code",
   "execution_count": 780,
   "id": "c5cebd2f-cdd7-478a-b75b-a5110ec7d420",
   "metadata": {
    "tags": []
   },
   "outputs": [
    {
     "name": "stdout",
     "output_type": "stream",
     "text": [
      "Validation for 3-qubit stabilizer dataset:\n",
      "  Full count of stabilizer states (1080): ✅\n",
      "  All states unique: ✅\n",
      "  Non-zero amplitude count for each state is a power of two: ✅\n",
      "  Non-zero amplitude count for each state is either ±1/√|s| or ±i/√|s| (|s| is support): ✅\n",
      "  Imaginary amplitude count for each state is zero or half the support: ✅\n",
      "  Negative amplitude count for each state is zero or a power of two: ✅\n"
     ]
    },
    {
     "data": {
      "text/plain": [
       "True"
      ]
     },
     "execution_count": 780,
     "metadata": {},
     "output_type": "execute_result"
    }
   ],
   "source": [
    "S3 = StabilizerStates(3)\n",
    "# S3 = StabilizerStates(3, \"real\")\n",
    "# S3 = StabilizerStates(3, \"ternary\")\n",
    "S3.validate()"
   ]
  },
  {
   "cell_type": "code",
   "execution_count": 502,
   "id": "3adda25f-1b8f-4a75-bda7-2dccc7c17244",
   "metadata": {
    "tags": []
   },
   "outputs": [
    {
     "name": "stdout",
     "output_type": "stream",
     "text": [
      "(1080, 8)\n"
     ]
    }
   ],
   "source": [
    "print(S3.shape)"
   ]
  },
  {
   "cell_type": "code",
   "execution_count": 503,
   "id": "6dabee14-aff8-4107-9986-e1275c479c99",
   "metadata": {
    "tags": []
   },
   "outputs": [
    {
     "name": "stdout",
     "output_type": "stream",
     "text": [
      "[[ 0.354+0.j  0.354+0.j  0.354+0.j  0.354+0.j  0.354+0.j  0.354+0.j  0.354+0.j  0.354+0.j]\n",
      " [ 0.354+0.j -0.354+0.j  0.354+0.j -0.354+0.j  0.354+0.j -0.354+0.j  0.354+0.j -0.354+0.j]\n",
      " [ 0.354+0.j  0.354+0.j -0.354+0.j -0.354+0.j  0.354+0.j  0.354+0.j -0.354+0.j -0.354+0.j]\n",
      " [ 0.354+0.j -0.354+0.j -0.354+0.j  0.354+0.j  0.354+0.j -0.354+0.j -0.354+0.j  0.354+0.j]\n",
      " ...\n",
      " [ 0.   +0.j  0.   +0.j  0.   +0.j  0.   +0.j  1.   +0.j  0.   +0.j  0.   +0.j  0.   +0.j]\n",
      " [ 0.   +0.j  0.   +0.j  0.   +0.j  0.   +0.j  0.   +0.j  1.   +0.j  0.   +0.j  0.   +0.j]\n",
      " [ 0.   +0.j  0.   +0.j  0.   +0.j  0.   +0.j  0.   +0.j  0.   +0.j  1.   +0.j  0.   +0.j]\n",
      " [ 0.   +0.j  0.   +0.j  0.   +0.j  0.   +0.j  0.   +0.j  0.   +0.j  0.   +0.j  1.   +0.j]]\n"
     ]
    }
   ],
   "source": [
    "print(S3)"
   ]
  },
  {
   "cell_type": "code",
   "execution_count": 768,
   "id": "c286986e-2f55-4f83-890b-c6c70adc91ba",
   "metadata": {
    "tags": []
   },
   "outputs": [
    {
     "name": "stdout",
     "output_type": "stream",
     "text": [
      "8\n",
      "4\n"
     ]
    }
   ],
   "source": [
    "from functools import partial\n",
    "\n",
    "S = S4\n",
    "# with np.printoptions(threshold=sys.maxsize, suppress=True):\n",
    "#     print(np.unique((S3._states / np.count_nonzero(S3._states, axis=1)[:,None]), axis=0, return_counts=True)[1])\n",
    "# np.all(np.real_if_close(S3._states) == (1 / np.sqrt(np.count_nonzero(S3._states, axis=1)))[:,None], axis=1)\n",
    "# s = S3._states == (1 / np.count_nonzero(S3._states, axis=1))[:,None]\n",
    "# np.unique(s[0], axis=0, return_counts=True)\n",
    "# np.apply_along_axis(partial(np.unique, axis=0, return_counts=True), 0, s)\n",
    "# unique_elems, counts = zip(*map(partial(np.unique, return_counts=True), s))\n",
    "# np.vstack(unique_elems)\n",
    "# S3.validate()\n",
    "# print(s)\n",
    "# np.real_if_close(S3._states)\n",
    "# np.where(np.all(np.isreal(S3._states), axis=1) == False)\n",
    "# support = (1 / np.sqrt(np.count_nonzero(S3._states, axis=1)))\n",
    "# np.logical_or(np.logical_or(np.logical_or(np.logical_or(S3._states == support[:,None], S3._states == -support[:,None]), S3._states == 1j*support[:,None]), S3._states == -1j*support[:,None]), np.isclose(S3._states, 0))[521]\n",
    "# np.all(np.isreal(S3._states), axis=1)\n",
    "# S3[521]/S3[521][1]\n",
    "# print(normalize(S3[521]/S3[521][np.nonzero(S3[521])][0]))\n",
    "# (1 / np.sqrt(np.count_nonzero(S3._states, axis=1)))[521]\n",
    "# print((S3._states/np.max(S3._states, axis=1)[:,None])[521])\n",
    "# print(np.apply_along_axis(normalize, 1, S3._states/S3._states[np.nonzero(S3._states)][0])[521])\n",
    "\n",
    "# np.count_nonzero(np.sign(S3._states) == -1, axis=1)\n",
    "# negative_signs = np.count_nonzero(np.sign(S._states) == -1, axis=1)\n",
    "# np.log2(negative_signs, where=negative_signs > 0)\n",
    "# np.all(np.mod(np.log2(np.count_nonzero(np.sign(S._states) == -1, axis=1))), 1) == 0)\n",
    "# np.where(np.mod(np.log2(negative_signs, where=negative_signs > 0), 1) != 0)\n",
    "# np.where(~np.isclose(np.mod(np.log2(negative_signs, where=negative_signs > 0), 1), 0))\n",
    "# S[19]\n",
    "\n",
    "support = np.count_nonzero(S._states, axis=1)\n",
    "num_imaginary = np.count_nonzero(np.iscomplex(S._states), axis=1)\n",
    "np.where(~np.logical_or(num_imaginary == support//2, num_imaginary == 0))\n",
    "# S[17939]\n",
    "print(np.count_nonzero(np.iscomplex(S[17939])))\n",
    "# print(np.real_if_close(S[551]))\n",
    "print(np.count_nonzero(np.iscomplex(normalize(S[17939]/np.max(S[17939])))))\n",
    "# S._states[551] = normalize(S[551]/S[551][1])\n",
    "# num_imaginary[551]"
   ]
  },
  {
   "cell_type": "code",
   "execution_count": 779,
   "id": "18523f4f-97f3-44cc-80ef-f51754206323",
   "metadata": {
    "tags": []
   },
   "outputs": [
    {
     "name": "stdout",
     "output_type": "stream",
     "text": [
      "Validation for 4-qubit stabilizer dataset:\n",
      "  Full count of stabilizer states (36720): ✅\n",
      "  All states unique: ✅\n",
      "  Non-zero amplitude count for each state is a power of two: ✅\n",
      "  Non-zero amplitude count for each state is either ±1/√|s| or ±i/√|s| (|s| is support): ✅\n",
      "  Imaginary amplitude count for each state is zero or half the support: ✅\n",
      "  Negative amplitude count for each state is zero or a power of two: ✅\n"
     ]
    },
    {
     "data": {
      "text/plain": [
       "True"
      ]
     },
     "execution_count": 779,
     "metadata": {},
     "output_type": "execute_result"
    }
   ],
   "source": [
    "S4 = StabilizerStates(4)\n",
    "# S4 = StabilizerStates(4, \"real\")\n",
    "# S4 = StabilizerStates(4, \"ternary\")\n",
    "S4.validate()"
   ]
  },
  {
   "cell_type": "code",
   "execution_count": 143,
   "id": "e943c60b-9c03-45d5-bfa9-918a6b3738a2",
   "metadata": {
    "tags": []
   },
   "outputs": [
    {
     "name": "stdout",
     "output_type": "stream",
     "text": [
      "(36720, 16)\n"
     ]
    }
   ],
   "source": [
    "print(S4.shape)"
   ]
  },
  {
   "cell_type": "code",
   "execution_count": 100,
   "id": "35a1e203-1fc5-4a33-ad88-2e559d2047bd",
   "metadata": {
    "tags": []
   },
   "outputs": [
    {
     "name": "stdout",
     "output_type": "stream",
     "text": [
      "[[ 0.25+0.j  0.25+0.j  0.25+0.j ...  0.25+0.j  0.25+0.j  0.25+0.j]\n",
      " [ 0.25+0.j -0.25+0.j  0.25+0.j ... -0.25+0.j  0.25+0.j -0.25+0.j]\n",
      " [ 0.25+0.j  0.25+0.j -0.25+0.j ...  0.25+0.j -0.25+0.j -0.25+0.j]\n",
      " ...\n",
      " [ 0.  +0.j  0.  +0.j  0.  +0.j ...  1.  +0.j  0.  +0.j  0.  +0.j]\n",
      " [ 0.  +0.j  0.  +0.j  0.  +0.j ...  0.  +0.j  1.  +0.j  0.  +0.j]\n",
      " [ 0.  +0.j  0.  +0.j  0.  +0.j ...  0.  +0.j  0.  +0.j  1.  +0.j]]\n"
     ]
    }
   ],
   "source": [
    "print(S4)"
   ]
  },
  {
   "cell_type": "code",
   "execution_count": 781,
   "id": "9f928ca2-d560-4eef-9201-9e8dedfb88e1",
   "metadata": {
    "tags": []
   },
   "outputs": [
    {
     "name": "stdout",
     "output_type": "stream",
     "text": [
      "Validation for 5-qubit stabilizer dataset:\n",
      "  Full count of stabilizer states (2423520): ❌\n",
      "  All states unique: ✅\n",
      "  Non-zero amplitude count for each state is a power of two: ✅\n",
      "  Non-zero amplitude count for each state is either ±1/√|s| or ±i/√|s| (|s| is support): ❌\n",
      "  Imaginary amplitude count for each state is zero or half the support: ✅\n",
      "  Negative amplitude count for each state is zero or a power of two: ✅\n"
     ]
    },
    {
     "data": {
      "text/plain": [
       "False"
      ]
     },
     "execution_count": 781,
     "metadata": {},
     "output_type": "execute_result"
    }
   ],
   "source": [
    "S5 = StabilizerStates(5)\n",
    "# S5 = StabilizerStates(5, \"real\")\n",
    "# S5 = StabilizerStates(5, \"ternary\")\n",
    "S5.validate()"
   ]
  },
  {
   "cell_type": "code",
   "execution_count": 147,
   "id": "5981eb49-2c76-4c08-954c-f9bf2b5fcce7",
   "metadata": {
    "tags": []
   },
   "outputs": [
    {
     "name": "stdout",
     "output_type": "stream",
     "text": [
      "(146880, 32)\n"
     ]
    }
   ],
   "source": [
    "print(S5.shape)"
   ]
  },
  {
   "cell_type": "code",
   "execution_count": 138,
   "id": "5735aeee-2b90-4676-970a-88b3547caf75",
   "metadata": {
    "tags": []
   },
   "outputs": [
    {
     "name": "stdout",
     "output_type": "stream",
     "text": [
      "[[ 0.         0.         0.25      ...  0.         0.25       0.25     ]\n",
      " [ 0.25      -0.25       0.        ...  0.25       0.         0.       ]\n",
      " [ 0.25       0.         0.25      ...  0.        -0.25       0.       ]\n",
      " ...\n",
      " [ 0.1767767 -0.1767767 -0.1767767 ... -0.1767767  0.1767767  0.1767767]\n",
      " [ 0.1767767 -0.1767767  0.1767767 ...  0.1767767 -0.1767767 -0.1767767]\n",
      " [ 0.1767767 -0.1767767 -0.1767767 ...  0.1767767 -0.1767767 -0.1767767]]\n"
     ]
    }
   ],
   "source": [
    "print(S5)"
   ]
  },
  {
   "cell_type": "code",
   "execution_count": 778,
   "id": "c022df0d-d93b-4f7e-9dd3-f9ceb7f83347",
   "metadata": {
    "tags": []
   },
   "outputs": [
    {
     "name": "stderr",
     "output_type": "stream",
     "text": [
      "/Users/amir/dev/qc/stabilizer-states/stabilizer_states/stabilizer_states.py:50: UserWarning: The dataset loaded (S6_ternary.npy) is a partial dataset (9694080 vs. 315057600)\n",
      "  warnings.warn(\n"
     ]
    },
    {
     "name": "stdout",
     "output_type": "stream",
     "text": [
      "Validation for 6-qubit stabilizer dataset:\n",
      "  Full count of stabilizer states (315057600): ❌\n",
      "  All states unique: ✅\n",
      "  Non-zero amplitude count for each state is a power of two: ✅\n",
      "  Non-zero amplitude count for each state is either ±1/√|s| or ±i/√|s| (|s| is support): ❌\n",
      "  Imaginary amplitude count for each state is zero or half the support: ✅\n",
      "  Negative amplitude count for each state is zero or a power of two: ✅\n"
     ]
    },
    {
     "data": {
      "text/plain": [
       "False"
      ]
     },
     "execution_count": 778,
     "metadata": {},
     "output_type": "execute_result"
    }
   ],
   "source": [
    "S6 = StabilizerStates(6)\n",
    "# S6 = StabilizerStates(6, \"ternary\")\n",
    "S6.validate()"
   ]
  },
  {
   "cell_type": "code",
   "execution_count": 127,
   "id": "25cdc775-84c2-4f90-8870-ff4f8a6ef07b",
   "metadata": {
    "tags": []
   },
   "outputs": [
    {
     "name": "stdout",
     "output_type": "stream",
     "text": [
      "(9694080, 64)\n"
     ]
    }
   ],
   "source": [
    "print(S6.shape)"
   ]
  },
  {
   "cell_type": "code",
   "execution_count": 128,
   "id": "b0589766-9f98-43b5-b9ba-0d873185491d",
   "metadata": {
    "tags": []
   },
   "outputs": [
    {
     "name": "stdout",
     "output_type": "stream",
     "text": [
      "[[ 1  0  0 ...  0  0  0]\n",
      " [ 0  0  0 ...  0  0  0]\n",
      " [ 0  0  0 ...  0  0  0]\n",
      " ...\n",
      " [ 1 -1 -1 ...  1  1  1]\n",
      " [ 1 -1 -1 ...  1  1  1]\n",
      " [ 1 -1 -1 ... -1 -1 -1]]\n"
     ]
    }
   ],
   "source": [
    "print(S6)"
   ]
  },
  {
   "cell_type": "code",
   "execution_count": 139,
   "id": "4ab95264-5b0c-4e6c-bf77-742716311b3a",
   "metadata": {
    "tags": []
   },
   "outputs": [
    {
     "ename": "ValueError",
     "evalue": "Missing stabilizer state dataset for 7 qubits.",
     "output_type": "error",
     "traceback": [
      "\u001b[0;31m---------------------------------------------------------------------------\u001b[0m",
      "\u001b[0;31mValueError\u001b[0m                                Traceback (most recent call last)",
      "Cell \u001b[0;32mIn[139], line 1\u001b[0m\n\u001b[0;32m----> 1\u001b[0m S7 \u001b[38;5;241m=\u001b[39m \u001b[43mStabilizerStates\u001b[49m\u001b[43m(\u001b[49m\u001b[38;5;241;43m7\u001b[39;49m\u001b[43m)\u001b[49m\n",
      "File \u001b[0;32m~/dev/qc/stabilizer-states/stabilizer_states/stabilizer_states.py:44\u001b[0m, in \u001b[0;36mStabilizerStates.__init__\u001b[0;34m(self, num_qubits, format)\u001b[0m\n\u001b[1;32m     41\u001b[0m         \u001b[38;5;28;01mcontinue\u001b[39;00m\n\u001b[1;32m     43\u001b[0m \u001b[38;5;28;01mif\u001b[39;00m \u001b[38;5;28mself\u001b[39m\u001b[38;5;241m.\u001b[39m_states \u001b[38;5;129;01mis\u001b[39;00m \u001b[38;5;28;01mNone\u001b[39;00m:\n\u001b[0;32m---> 44\u001b[0m     \u001b[38;5;28;01mraise\u001b[39;00m \u001b[38;5;167;01mValueError\u001b[39;00m(\u001b[38;5;124mf\u001b[39m\u001b[38;5;124m\"\u001b[39m\u001b[38;5;124mMissing stabilizer state dataset for \u001b[39m\u001b[38;5;132;01m{\u001b[39;00mnum_qubits\u001b[38;5;132;01m}\u001b[39;00m\u001b[38;5;124m qubits.\u001b[39m\u001b[38;5;124m\"\u001b[39m)\n\u001b[1;32m     46\u001b[0m \u001b[38;5;28;01mif\u001b[39;00m \u001b[38;5;28mformat\u001b[39m \u001b[38;5;241m==\u001b[39m \u001b[38;5;124m\"\u001b[39m\u001b[38;5;124many\u001b[39m\u001b[38;5;124m\"\u001b[39m:\n\u001b[1;32m     47\u001b[0m     full_count \u001b[38;5;241m=\u001b[39m StabilizerStates\u001b[38;5;241m.\u001b[39mcount(num_qubits)\n",
      "\u001b[0;31mValueError\u001b[0m: Missing stabilizer state dataset for 7 qubits."
     ]
    }
   ],
   "source": [
    "S7 = StabilizerStates(7)"
   ]
  },
  {
   "cell_type": "code",
   "execution_count": null,
   "id": "5024da61-d0bd-4709-9259-682a5c0d1925",
   "metadata": {},
   "outputs": [],
   "source": []
  }
 ],
 "metadata": {
  "kernelspec": {
   "display_name": "Python 3 (ipykernel)",
   "language": "python",
   "name": "python3"
  },
  "language_info": {
   "codemirror_mode": {
    "name": "ipython",
    "version": 3
   },
   "file_extension": ".py",
   "mimetype": "text/x-python",
   "name": "python",
   "nbconvert_exporter": "python",
   "pygments_lexer": "ipython3",
   "version": "3.9.16"
  }
 },
 "nbformat": 4,
 "nbformat_minor": 5
}
